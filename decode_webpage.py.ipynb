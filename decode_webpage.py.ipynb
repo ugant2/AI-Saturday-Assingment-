{
 "cells": [
  {
   "cell_type": "code",
   "execution_count": 2,
   "metadata": {},
   "outputs": [],
   "source": [
    "from bs4 import BeautifulSoup\n",
    "import requests"
   ]
  },
  {
   "cell_type": "code",
   "execution_count": 3,
   "metadata": {},
   "outputs": [
    {
     "name": "stderr",
     "output_type": "stream",
     "text": [
      "/home/ugantx/anaconda3/lib/python3.6/site-packages/bs4/__init__.py:181: UserWarning: No parser was explicitly specified, so I'm using the best available HTML parser for this system (\"lxml\"). This usually isn't a problem, but if you run this code on another system, or in a different virtual environment, it may use a different parser and behave differently.\n",
      "\n",
      "The code that caused this warning is on line 193 of the file /home/ugantx/anaconda3/lib/python3.6/runpy.py. To get rid of this warning, change code that looks like this:\n",
      "\n",
      " BeautifulSoup(YOUR_MARKUP})\n",
      "\n",
      "to this:\n",
      "\n",
      " BeautifulSoup(YOUR_MARKUP, \"lxml\")\n",
      "\n",
      "  markup_type=markup_type))\n"
     ]
    }
   ],
   "source": [
    "base_url = 'http://www.nytimes.com'\n",
    "\n",
    "# \"load\" a webpage through Python\n",
    "r = requests.get(base_url)\n",
    "soup = BeautifulSoup(r.text) #r.text returns all the HTML from the returned request.\n",
    "\n",
    "for story_heading in soup.find_all(class_=\"story-heading\"): # class_=\"story-heading\" returns a tag with class name story-heading\n",
    "    if story_heading.a:\n",
    "        print(story_heading.a.text.replace(\"\\n\", \" \").strip())\n",
    "    else:\n",
    "        print(story_heading.content[0].strip())\n",
    "\n"
   ]
  },
  {
   "cell_type": "code",
   "execution_count": 49,
   "metadata": {},
   "outputs": [
    {
     "name": "stdout",
     "output_type": "stream",
     "text": [
      "['Cohen Is Being Investigated for Loans in Excess of $20 Million', 'Trump Lawyers Don’t Know What Mueller’s Team Has Been Told', 'Giuliani Says ‘Truth Isn’t Truth’ in Defense of Trump’s Legal Strategy 8:30 AM ET', 'Pope Condemns ‘Atrocities’ of Abuse in Letter to Catholics', 'Catholics Return to Mass After Sex Abuse Report ', 'Asia Argento Madea Deal With HerOwn Accuser', 'Kim Jong-un Focuses on Economy as Talks With U.S. Stall', 'Korean Families, Separated for 6 Decades, Are Briefly Reunited 9:17 AM ET', 'Here Are the Lobbyist Emails Cuomo Fought Hard to Keep Secret', 'Uber’s Vision of Self-Driving Cars Begins to Blur', 'Tesla Slashes Spending, and May Add to Its Troubles', 'Top E.P.A. Official Is Set to Deliver a Big Win to Ex-Clients', 'Your Monday Briefing', 'California Today: A New Way to Treat Opioid Addiction', 'Listen to ‘The Daily’: An Unlikely Witness', 'How to Be an Ace Salary Negotiator (Even if You Hate Conflict)', 'How to Read a Food Label', 'Hard Lessons for Investors After the Bitcoin Boom', 'A Culture War Under the Wedding Canopy in Israel', 'In the Real Shangri-La, Writers Record a Vanishing World', 'The Secret to Ant Efficiency Is Idleness', '                                     How Ants Avoid Traffic Jams                            ', 'PepsiCo to Buy SodaStream for $3.2 Billion 9:52 AM ET', '2 Earthquakes Hit Indonesian Island, Killing at Least 12 8:59 AM ET', 'Gender Letter', ' Australian Prime Minister Abandons Climate Targets, Bowing to Party Pressure ', ' Review: In ‘Mystery Road,’ Judy Davis Goes West ', ' Pregnant Minister Cycles to Hospital to Give Birth ', ' Rethinking an Oscar Niemeyer House ', ' Review: ‘Change Agents’ Who Enable Inequality ', ' Ties: A Puppy as a Starter Kid ', 'Will Pope Francis Take His Own Advice for Church Reform? ', 'Trump’s Silly War With Harley-Davidson', 'Endorsement: Zephyr Teachout Is the Right Choice as Attorney General for Democrats ', 'Blow: Nixon, Clinton and Trump ', 'Kofi Annan’s Idealism 9:50 AM ET', 'I’m a Doctor and Even I Can’t Afford My Student Loans', 'Why Even a Blue Wave Could Have Limited Gains  9:27 AM ET', 'Poor Countries Have an Unlikely Ally Close to the White House 11:00 AM ET', 'In Alabama, Challenging Hidden Racial Discrimination  11:07 AM ET', 'Steve Bannon Has Found His Next Trump 6:29 AM ET', 'Motherhood and the Back-to-College Blues ', 'Who Is Afraid of Shahidul Alam? 6:43 AM ET', 'What Does It Mean to Be Human? Don’t Ask  ', ' Interviewing Elon Musk ', ' 5 Pearls of Wisdom About College for Students Starting Their First Year ', ' Play Today’s Puzzle  ', ' Interviewing Elon Musk ', ' Play Today’s Puzzle  ', ' Play Today’s Puzzle  ', 'Mets’ Voice Is One of Reason, and Significance', 'What Does It Mean to Be Human? Don’t Ask ', 'Clues to Your Health Are Hidden in Your DNA', 'A Fashion Visionary Reframing Creole Identity', 'Happy Children Do Chores', 'Studying Reindeer Killed by Lightning', '              Kim Jong-un Focuses on Economy as Nuclear Talks With U.S. Stall         ', '              Korean Families, Separated for 6 Decades, Are Briefly Reunited         ', '              Interviewing Elon Musk         ', '              Elon Musk’s No Good, Very Bad Year: A Tesla Timeline         ', '              Charles M. Blow: Nixon, Clinton and Trump         ', '              Zephyr Teachout Is the Right Choice as Attorney General for Democrats         ', '              Asia Argento, a #MeToo Leader, Made a Deal With Her Own Accuser         ', '              Behind Most Wildfires, a Person and a Spark: ‘We Bring Fire With Us’         ', '              Uber’s Vision of Self-Driving Cars Begins to Blur         ', '              Netflix Tests Promotional Videos but Users See ‘Commercials’         ', '              For Glenn Close, the Seventh Nomination Just May Be the Charm         ', '              Asia Argento, a #MeToo Leader, Made a Deal With Her Own Accuser         ', '              Trump Lawyers’ Sudden Realization: They Don’t Know What Don McGahn Told Mueller’s Team         ', '              There Is More to Stacey Abrams Than Meets Partisan Eyes         ', '              For a Major Disney Collector, It’s the Magic Hour         ', '              The Look: Inside the Ring of Underground Wrestling         ', '              ‘This Story Transcends Race’: Kevin Kwan on the Appeal of ‘Crazy Rich Asians’         ', '              Aretha Franklin’s Music Powered Memorable Moments Onscreen         ', '              Michael Cohen, Trump’s Ex-Lawyer, Investigated for Bank Fraud Over $20 Million         ', '              Harlem’s Trash Bins Were Overflowing. So the City Took 223 Away.         ', '              Simone Biles Cruises to All-Around Title at U.S. Championships         ', '              Yankees 10, Blue Jays 2: Yankees Keep Winning Games and Losing Players         ', '              In This ‘Oklahoma!,’ She Loves Her and He Loves Him         ', '              Critic’s Notebook: In the Berkshires, a Powerful Play and a Classic Musical About Prejudice         ', '              Trilobites: Your Spit Might Help You Learn to Eat Your Greens         ', '              Trilobites: Hundreds of Reindeer Died by Lightning. Their Carcasses Became a Laboratory.         ', '              Kofi Annan, Who Redefined the U.N., Dies at 80         ', '              Rita Borsellino, 73, Dies; a Murder Made Her an Anti-Mafia Crusader         ', '              Sacha Baron Cohen Pranked Me, Can I Sue? Yes. Win? Not So Much.         ', '              The Affair: ‘The Affair’ Season 4 Finale Recap: The Gift         ', '              Personal Health: What Twins Can Teach Us About Nature vs. Nurture         ', '              The Checkup: Let Kids Play         ', '              Favorite Place: My Armenia         ', '              Footsteps: The Legacy De Gaulle Left in London         ', '              Nonfiction: What Role Do Teachers Play in Education?         ', '              By the Book: Rebecca Solnit: By the Book         ', '              How to Write a Good College Application Essay         ', '              The iGen Shift: Colleges Are Changing to Reach the Next Generation         ', '              A Good Appetite: The BLT, as You’ve Never Seen It         ', '              City Kitchen: Step Aside, Peaches: Nectarines Make a Bid for Best Cobbler Filling         ', '              Feature: The Unlikely Activists Who Took On Silicon Valley — and Won         ', '              Talk: Jerry Seinfeld Says Jokes Are Not Real Life         ', '              Ask Real Estate: Is It O.K. to Cheat on My Broker?         ', \"              What's Selling Now: Homes That Sold for Around $1,000,000         \", '              The Costs of Motherhood Are Rising, and Catching Women Off Guard         ', '              Bleak New Estimates in Drug Epidemic: A Record 72,000 Overdose Deaths in 2017          ', '              Interviewing Elon Musk         ', '              Demystifying Online Privacy, Through the Story of the Man Who Took On Silicon Valley         ', '              Elon Musk Details ‘Excruciating’ Personal Toll of Tesla Turmoil         ', '              Wheels: As Cars Collect More Data, Companies Try to Move It All Faster         ', '              A Guide to Rio de Janeiro’s Coastal Cool         ', '              Reviving a Centuries-Old Japanese Confectionery Art         ', 'Homes That Sold for Around $1,000,000', 'Search for Homes for Sale or Rent', 'Mortgage Calculator']\n"
     ]
    },
    {
     "name": "stderr",
     "output_type": "stream",
     "text": [
      "/home/ugantx/anaconda3/lib/python3.6/site-packages/bs4/__init__.py:181: UserWarning: No parser was explicitly specified, so I'm using the best available HTML parser for this system (\"lxml\"). This usually isn't a problem, but if you run this code on another system, or in a different virtual environment, it may use a different parser and behave differently.\n",
      "\n",
      "The code that caused this warning is on line 193 of the file /home/ugantx/anaconda3/lib/python3.6/runpy.py. To get rid of this warning, change code that looks like this:\n",
      "\n",
      " BeautifulSoup(YOUR_MARKUP})\n",
      "\n",
      "to this:\n",
      "\n",
      " BeautifulSoup(YOUR_MARKUP, \"lxml\")\n",
      "\n",
      "  markup_type=markup_type))\n"
     ]
    }
   ],
   "source": [
    "from bs4 import BeautifulSoup\n",
    "import requests\n",
    "\n",
    "url = 'http://www.nytimes.com/'\n",
    "ttl_lst = []\n",
    "\n",
    "soup = BeautifulSoup(requests.get(url).text.replace(\"\\n\",' ').strip())\n",
    "title = soup.findAll('h2', {'class': 'story-heading'})\n",
    "for row in title:\n",
    "     ttl_lst.append(row.text)\n",
    "     \n",
    "\n",
    "print(ttl_lst)"
   ]
  },
  {
   "cell_type": "code",
   "execution_count": null,
   "metadata": {},
   "outputs": [],
   "source": []
  }
 ],
 "metadata": {
  "kernelspec": {
   "display_name": "Python 3",
   "language": "python",
   "name": "python3"
  },
  "language_info": {
   "codemirror_mode": {
    "name": "ipython",
    "version": 3
   },
   "file_extension": ".py",
   "mimetype": "text/x-python",
   "name": "python",
   "nbconvert_exporter": "python",
   "pygments_lexer": "ipython3",
   "version": "3.6.4"
  }
 },
 "nbformat": 4,
 "nbformat_minor": 2
}
