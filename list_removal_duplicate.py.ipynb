{
 "cells": [
  {
   "cell_type": "code",
   "execution_count": 12,
   "metadata": {},
   "outputs": [
    {
     "name": "stdout",
     "output_type": "stream",
     "text": [
      "[1, 2, 3, 4, 5, 5, 6, 7, 8, 9, 9]\n",
      "[1, 2, 3, 4, 5, 6, 7, 8, 9]\n",
      "[1, 2, 3, 4, 5, 6, 7, 8, 9]\n"
     ]
    }
   ],
   "source": [
    "def take_duplicate_values(x):\n",
    "    y = []\n",
    "    for i in x:\n",
    "        if i not in y:\n",
    "            y.append(i)\n",
    "    return y\n",
    "    \n",
    "    \n",
    "def remove_duplicat_values(x):\n",
    "    return list(set(x))\n",
    "\n",
    "z = [1,2,3,4,5,5,6,7,8,9,9]\n",
    "print(z)\n",
    "print(take_duplicate_values(z))\n",
    "print(remove_duplicat_values(z))\n"
   ]
  },
  {
   "cell_type": "code",
   "execution_count": null,
   "metadata": {},
   "outputs": [],
   "source": []
  }
 ],
 "metadata": {
  "kernelspec": {
   "display_name": "Python 3",
   "language": "python",
   "name": "python3"
  },
  "language_info": {
   "codemirror_mode": {
    "name": "ipython",
    "version": 3
   },
   "file_extension": ".py",
   "mimetype": "text/x-python",
   "name": "python",
   "nbconvert_exporter": "python",
   "pygments_lexer": "ipython3",
   "version": "3.6.4"
  }
 },
 "nbformat": 4,
 "nbformat_minor": 2
}
