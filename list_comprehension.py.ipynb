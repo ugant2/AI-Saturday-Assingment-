{
 "cells": [
  {
   "cell_type": "code",
   "execution_count": 12,
   "metadata": {},
   "outputs": [
    {
     "name": "stdout",
     "output_type": "stream",
     "text": [
      "[28, 27, 28, 28, 26, 27]\n"
     ]
    }
   ],
   "source": [
    "years_of_birth = [1990, 1991, 1990, 1990, 1992, 1991]\n",
    "ages = []\n",
    "for year in years_of_birth:\n",
    "    age = 2018-year\n",
    "    ages.append(age)\n",
    "print(ages)   \n",
    "    \n",
    "    "
   ]
  },
  {
   "cell_type": "code",
   "execution_count": 18,
   "metadata": {},
   "outputs": [
    {
     "name": "stdout",
     "output_type": "stream",
     "text": [
      "[28, 27, 28, 28, 26, 27]\n"
     ]
    },
    {
     "data": {
      "text/plain": [
       "' Notice that the for loop just shifted to the end of the list comprehension, and the part before the for keyword is the thing to append to the end of the new list.'"
      ]
     },
     "execution_count": 18,
     "metadata": {},
     "output_type": "execute_result"
    }
   ],
   "source": [
    "# Using List Comprehension\n",
    "years_of_birth = [1990, 1991, 1990, 1990, 1992, 1991]\n",
    "ages = [2018 - year for year in years_of_birth]\n",
    "print(ages)\n",
    "\n",
    "#  Notice that the for loop just shifted to the end of the \n",
    "# list comprehension, and the part before the for \n",
    "# keyword is the thing to append to the end of the new list."
   ]
  },
  {
   "cell_type": "code",
   "execution_count": null,
   "metadata": {},
   "outputs": [],
   "source": []
  }
 ],
 "metadata": {
  "kernelspec": {
   "display_name": "Python 3",
   "language": "python",
   "name": "python3"
  },
  "language_info": {
   "codemirror_mode": {
    "name": "ipython",
    "version": 3
   },
   "file_extension": ".py",
   "mimetype": "text/x-python",
   "name": "python",
   "nbconvert_exporter": "python",
   "pygments_lexer": "ipython3",
   "version": "3.6.4"
  }
 },
 "nbformat": 4,
 "nbformat_minor": 2
}
